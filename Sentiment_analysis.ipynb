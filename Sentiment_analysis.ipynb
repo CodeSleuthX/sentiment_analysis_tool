{
  "nbformat": 4,
  "nbformat_minor": 0,
  "metadata": {
    "colab": {
      "provenance": []
    },
    "kernelspec": {
      "name": "python3",
      "display_name": "Python 3"
    },
    "language_info": {
      "name": "python"
    }
  },
  "cells": [
    {
      "cell_type": "markdown",
      "source": [
        "# **NLTK's VADER sentiment analysis**"
      ],
      "metadata": {
        "id": "FaQ8G7TDkM_O"
      }
    },
    {
      "cell_type": "code",
      "execution_count": null,
      "metadata": {
        "id": "roMls3eYU-aR"
      },
      "outputs": [],
      "source": [
        "import nltk\n",
        "from nltk.sentiment.vader import SentimentIntensityAnalyzer"
      ]
    },
    {
      "cell_type": "code",
      "source": [
        "# Download the VADER lexicon for sentiment analysis\n",
        "nltk.download(\"vader_lexicon\")"
      ],
      "metadata": {
        "colab": {
          "base_uri": "https://localhost:8080/"
        },
        "id": "ZeIIhT4sVEi1",
        "outputId": "6f1495bf-fe71-4c10-e4db-53d7c1ed88cc"
      },
      "execution_count": null,
      "outputs": [
        {
          "output_type": "stream",
          "name": "stderr",
          "text": [
            "[nltk_data] Downloading package vader_lexicon to /root/nltk_data...\n"
          ]
        },
        {
          "output_type": "execute_result",
          "data": {
            "text/plain": [
              "True"
            ]
          },
          "metadata": {},
          "execution_count": 2
        }
      ]
    },
    {
      "cell_type": "code",
      "source": [
        "# Initialize the vader sentiment analyzer\n",
        "sid = SentimentIntensityAnalyzer()"
      ],
      "metadata": {
        "id": "Ny3_4y8tVHn7"
      },
      "execution_count": null,
      "outputs": []
    },
    {
      "cell_type": "code",
      "source": [
        "def analyze_sentiment(text):\n",
        "  # Use Vader sentiment analyzer to get sentiment scores\n",
        "  sentiment_score = sid.polarity_scores(text)\n",
        "\n",
        "  # Determine the sentiment based on compound scores\n",
        "  compound_scores = sentiment_score[\"compound\"]\n",
        "\n",
        "  if compound_scores >= 0.05:\n",
        "    return \"Positive\"\n",
        "  elif compound_scores <= -0.05:\n",
        "    return \"Negative\"\n",
        "  else:\n",
        "    return \"Neutral\""
      ],
      "metadata": {
        "id": "3S5iTSzbVJYD"
      },
      "execution_count": null,
      "outputs": []
    },
    {
      "cell_type": "code",
      "source": [
        "if __name__ == \"__main__\":\n",
        "  while True:\n",
        "    user_text = input(\"Enter text (or type 'exit' to quit): \")\n",
        "\n",
        "    if user_text.lower() == \"exit\":\n",
        "      break\n",
        "\n",
        "    sentiment = analyze_sentiment(user_text)\n",
        "    print(f\"Sentiment: {sentiment}\")"
      ],
      "metadata": {
        "id": "B0zgCMi6VLM8"
      },
      "execution_count": null,
      "outputs": []
    }
  ]
}